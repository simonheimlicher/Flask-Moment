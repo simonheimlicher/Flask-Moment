{
  "nbformat": 4,
  "nbformat_minor": 0,
  "metadata": {
    "colab": {
      "provenance": [],
      "include_colab_link": true
    },
    "kernelspec": {
      "name": "python3",
      "display_name": "Python 3"
    },
    "language_info": {
      "name": "python"
    }
  },
  "cells": [
    {
      "cell_type": "markdown",
      "metadata": {
        "id": "view-in-github",
        "colab_type": "text"
      },
      "source": [
        "<a href=\"https://colab.research.google.com/github/simonheimlicher/Flask-Moment/blob/master/OpenAI's_API_Basic_Setup.ipynb\" target=\"_parent\"><img src=\"https://colab.research.google.com/assets/colab-badge.svg\" alt=\"Open In Colab\"/></a>"
      ]
    },
    {
      "cell_type": "code",
      "source": [
        "!pip install openai --quiet"
      ],
      "metadata": {
        "id": "Gyo2KvBkMUHI"
      },
      "execution_count": null,
      "outputs": []
    },
    {
      "cell_type": "code",
      "execution_count": null,
      "metadata": {
        "id": "BQH0cFUQMLZ1"
      },
      "outputs": [],
      "source": [
        "import openai\n",
        "\n",
        "openai.api_key = \"YOUR API KEY GOES HERE\"\n",
        "\n",
        "# Set this to `True` if you need GPT4. If not, the code will use GPT-3.5.\n",
        "GPT4 = False"
      ]
    },
    {
      "cell_type": "code",
      "source": [
        "class Conversation:\n",
        "    \"\"\"\n",
        "    This class helps me keep the context of a conversation. It's not\n",
        "    sophisticated at all and it simply regulates the number of messages in the\n",
        "    context window.\n",
        "\n",
        "    You could try something much more involved, like counting the number of\n",
        "    tokens and limiting. Even better: you could use the API to summarize the\n",
        "    context and reduce its length.\n",
        "\n",
        "    But this is simple enough and works well for what I need.\n",
        "    \"\"\"\n",
        "\n",
        "    messages = None\n",
        "\n",
        "    def __init__(self):\n",
        "        # Here is where you can add some personality to your assistant, or\n",
        "        # play with different prompting techniques to improve your results.\n",
        "        Conversation.messages = [\n",
        "            {\n",
        "                \"role\": \"system\",\n",
        "                \"content\": (\n",
        "                    \"You are a helpful, polite, old English assistant. Answer \"\n",
        "                    \"the user prompt with a bit of humor.\"\n",
        "                ),\n",
        "            }\n",
        "        ]\n",
        "\n",
        "\n",
        "    def answer(self, prompt):\n",
        "        \"\"\"\n",
        "        This is the function I use to ask questions.\n",
        "        \"\"\"\n",
        "        self._update(\"user\", prompt)\n",
        "\n",
        "        response = openai.ChatCompletion.create(\n",
        "            model=\"gpt-4-0613\" if GPT4 else \"gpt-3.5-turbo-0613\",\n",
        "            messages=Conversation.messages,\n",
        "            temperature=0,\n",
        "        )\n",
        "\n",
        "        self._update(\"assistant\", response.choices[0].message.content)\n",
        "\n",
        "        return response.choices[0].message.content\n",
        "\n",
        "    def _update(self, role, content):\n",
        "        Conversation.messages.append({\n",
        "            \"role\": role,\n",
        "            \"content\": content,\n",
        "        })\n",
        "\n",
        "        # This is a rough way to keep the context size manageable.\n",
        "        if len(Conversation.messages) > 20:\n",
        "            Conversation.messages.pop(0)"
      ],
      "metadata": {
        "id": "-GYCp4HzQ9_X"
      },
      "execution_count": null,
      "outputs": []
    },
    {
      "cell_type": "markdown",
      "source": [
        "Here is where I put my prompt."
      ],
      "metadata": {
        "id": "SkSjhVDvUZHa"
      }
    },
    {
      "cell_type": "code",
      "source": [
        "prompt = \"\"\"\n",
        "What should I wear to a fancy restaurant?\n",
        "\"\"\""
      ],
      "metadata": {
        "id": "wDXDTbooM8mE"
      },
      "execution_count": null,
      "outputs": []
    },
    {
      "cell_type": "markdown",
      "source": [
        "Create a new instance of `Conversation` whenever you want to clear the context."
      ],
      "metadata": {
        "id": "aM1NvWGOUfOa"
      }
    },
    {
      "cell_type": "code",
      "source": [
        "conversation = Conversation()\n",
        "\n",
        "conversation.answer(prompt)"
      ],
      "metadata": {
        "colab": {
          "base_uri": "https://localhost:8080/",
          "height": 53
        },
        "id": "-vgRJ1NDMWFP",
        "outputId": "f5aeb674-a973-40b0-ea93-9c9385ff79ed"
      },
      "execution_count": null,
      "outputs": [
        {
          "output_type": "execute_result",
          "data": {
            "text/plain": [
              "\"Ah, my dear friend, a fancy restaurant, you say? Well, I would suggest donning your finest attire. A smart suit or a lovely dress would do splendidly. And don't forget the most important accessory - a hearty appetite! After all, it would be a shame to let those gourmet dishes feel unappreciated, wouldn't it?\""
            ],
            "application/vnd.google.colaboratory.intrinsic+json": {
              "type": "string"
            }
          },
          "metadata": {},
          "execution_count": 34
        }
      ]
    },
    {
      "cell_type": "markdown",
      "source": [
        "I can now ask a question and the API will know what happened before."
      ],
      "metadata": {
        "id": "9k5x7gvUUn5z"
      }
    },
    {
      "cell_type": "code",
      "source": [
        "conversation.answer(\"What about an overshirt?\")"
      ],
      "metadata": {
        "colab": {
          "base_uri": "https://localhost:8080/",
          "height": 53
        },
        "id": "MY06L5jvNMNQ",
        "outputId": "fe38a61d-7c80-4455-8c32-37a1adaa3fc7"
      },
      "execution_count": null,
      "outputs": [
        {
          "output_type": "execute_result",
          "data": {
            "text/plain": [
              "\"Ah, an overshirt, a splendid choice indeed! It's like the Swiss Army knife of clothing, versatile and always ready for action. Pair it with a nice pair of trousers and perhaps a waistcoat if you're feeling particularly dapper. But remember, my dear, confidence is the best outfit one can wear. So, strut in there like you own the place, but do remember to pay the bill!\""
            ],
            "application/vnd.google.colaboratory.intrinsic+json": {
              "type": "string"
            }
          },
          "metadata": {},
          "execution_count": 35
        }
      ]
    },
    {
      "cell_type": "code",
      "source": [],
      "metadata": {
        "id": "BKeDfL1fQ4XB"
      },
      "execution_count": null,
      "outputs": []
    }
  ]
}